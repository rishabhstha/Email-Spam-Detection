{
 "cells": [
  {
   "cell_type": "code",
   "execution_count": 85,
   "id": "c86a209a",
   "metadata": {},
   "outputs": [],
   "source": [
    "import pandas as pd\n",
    "import re\n",
    "import numpy as np\n",
    "\n",
    "from keras.preprocessing.text import Tokenizer\n",
    "from sklearn.model_selection import train_test_split\n",
    "\n",
    "import seaborn as sns\n",
    "import matplotlib.pyplot as plt  \n",
    "from sklearn.metrics import confusion_matrix, classification_report, accuracy_score,roc_auc_score, plot_confusion_matrix,plot_roc_curve, f1_score, precision_score,recall_score\n",
    "\n",
    "import warnings\n",
    "warnings.filterwarnings(action='ignore')"
   ]
  },
  {
   "cell_type": "code",
   "execution_count": 2,
   "id": "641ba28b",
   "metadata": {},
   "outputs": [
    {
     "data": {
      "text/html": [
       "<div>\n",
       "<style scoped>\n",
       "    .dataframe tbody tr th:only-of-type {\n",
       "        vertical-align: middle;\n",
       "    }\n",
       "\n",
       "    .dataframe tbody tr th {\n",
       "        vertical-align: top;\n",
       "    }\n",
       "\n",
       "    .dataframe thead th {\n",
       "        text-align: right;\n",
       "    }\n",
       "</style>\n",
       "<table border=\"1\" class=\"dataframe\">\n",
       "  <thead>\n",
       "    <tr style=\"text-align: right;\">\n",
       "      <th></th>\n",
       "      <th>text</th>\n",
       "      <th>spam</th>\n",
       "    </tr>\n",
       "  </thead>\n",
       "  <tbody>\n",
       "    <tr>\n",
       "      <th>0</th>\n",
       "      <td>Subject: naturally irresistible your corporate...</td>\n",
       "      <td>1</td>\n",
       "    </tr>\n",
       "    <tr>\n",
       "      <th>1</th>\n",
       "      <td>Subject: the stock trading gunslinger  fanny i...</td>\n",
       "      <td>1</td>\n",
       "    </tr>\n",
       "    <tr>\n",
       "      <th>2</th>\n",
       "      <td>Subject: unbelievable new homes made easy  im ...</td>\n",
       "      <td>1</td>\n",
       "    </tr>\n",
       "    <tr>\n",
       "      <th>3</th>\n",
       "      <td>Subject: 4 color printing special  request add...</td>\n",
       "      <td>1</td>\n",
       "    </tr>\n",
       "    <tr>\n",
       "      <th>4</th>\n",
       "      <td>Subject: do not have money , get software cds ...</td>\n",
       "      <td>1</td>\n",
       "    </tr>\n",
       "  </tbody>\n",
       "</table>\n",
       "</div>"
      ],
      "text/plain": [
       "                                                text  spam\n",
       "0  Subject: naturally irresistible your corporate...     1\n",
       "1  Subject: the stock trading gunslinger  fanny i...     1\n",
       "2  Subject: unbelievable new homes made easy  im ...     1\n",
       "3  Subject: 4 color printing special  request add...     1\n",
       "4  Subject: do not have money , get software cds ...     1"
      ]
     },
     "execution_count": 2,
     "metadata": {},
     "output_type": "execute_result"
    }
   ],
   "source": [
    "data = pd.read_csv('data/emails.csv')\n",
    "data.head()"
   ]
  },
  {
   "cell_type": "code",
   "execution_count": 3,
   "id": "99b5eed2",
   "metadata": {},
   "outputs": [
    {
     "name": "stdout",
     "output_type": "stream",
     "text": [
      "<class 'pandas.core.frame.DataFrame'>\n",
      "RangeIndex: 5728 entries, 0 to 5727\n",
      "Data columns (total 2 columns):\n",
      " #   Column  Non-Null Count  Dtype \n",
      "---  ------  --------------  ----- \n",
      " 0   text    5728 non-null   object\n",
      " 1   spam    5728 non-null   int64 \n",
      "dtypes: int64(1), object(1)\n",
      "memory usage: 89.6+ KB\n"
     ]
    }
   ],
   "source": [
    "data.info()"
   ]
  },
  {
   "cell_type": "code",
   "execution_count": 7,
   "id": "9a6cfb73",
   "metadata": {},
   "outputs": [
    {
     "data": {
      "text/plain": [
       "0    4360\n",
       "1    1368\n",
       "Name: spam, dtype: int64"
      ]
     },
     "execution_count": 7,
     "metadata": {},
     "output_type": "execute_result"
    }
   ],
   "source": [
    "#Here 1 is spam and 0 is not spam\n",
    "data['spam'].value_counts()\n"
   ]
  },
  {
   "cell_type": "code",
   "execution_count": 19,
   "id": "d16d46dc",
   "metadata": {},
   "outputs": [
    {
     "data": {
      "text/plain": [
       "'Subject: 4 color printing special  request additional information now ! click here  click here for a printable version of our order form ( pdf format )  phone : ( 626 ) 338 - 8090 fax : ( 626 ) 338 - 8102 e - mail : ramsey @ goldengraphix . com  request additional information now ! click here  click here for a printable version of our order form ( pdf format )  golden graphix & printing 5110 azusa canyon rd . irwindale , ca 91706 this e - mail message is an advertisement and / or solicitation . '"
      ]
     },
     "execution_count": 19,
     "metadata": {},
     "output_type": "execute_result"
    }
   ],
   "source": [
    "data['text'][3]"
   ]
  },
  {
   "cell_type": "code",
   "execution_count": 32,
   "id": "5d1fc2e1",
   "metadata": {},
   "outputs": [
    {
     "data": {
      "text/plain": [
       "'subject naturally irresistible your corporate identity lt is really hard to recollect a company the market is full of suqgestions and the information isoverwhelminq but a good catchy logo stylish statlonery and outstanding website will make the task much easier we do not promise that havinq ordered a iogo your company will automaticaily become a world ieader it isguite ciear that without good products effective business organization and practicable aim it will be hotat nowadays market but we do promise that your marketing efforts will become much more effective here is the list of clear benefits creativeness hand made original logos specially done to reflect your distinctive company image convenience logo and stationery are provided in all formats easy to use content management system letsyou change your website content and even its structure promptness you will see logo drafts within three business days affordability your marketing break through shouldn t make gaps in your budget satisfaction guaranteed we provide unlimited amount of changes with no extra fees for you to be surethat you will love the result of this collaboration have a look at our portfolio not interested '"
      ]
     },
     "execution_count": 32,
     "metadata": {},
     "output_type": "execute_result"
    }
   ],
   "source": [
    "#Let's preprocess the data\n",
    "def CleanText(text):\n",
    "    text = re.sub('http\\S+\\s*', ' ', text)  # remove URLs\n",
    "    text = re.sub('[%s]' % re.escape(\"\"\"!\"#$%&'()*+,-./:;<=>?@[\\]^_`{|}~\"\"\"), ' ', text)  # remove punctuations\n",
    "    text = re.sub(r'[^\\x00-\\x7f]',r' ', text) #replace non-Ascii characters \n",
    "    text = re.sub(r'\\d+', '', text) #remove number\n",
    "    text = re.sub('\\s+', ' ', text)  # remove extra whitespace\n",
    "    text= str(text).lower()\n",
    "    text=  text.replace('\\n','')\n",
    "    \n",
    "    return text\n",
    "\n",
    "data['cleaned_text']=data['text'].apply(lambda x: CleanText(x))\n",
    "\n",
    "data['cleaned_text'][0]"
   ]
  },
  {
   "cell_type": "code",
   "execution_count": 33,
   "id": "d164ee44",
   "metadata": {},
   "outputs": [
    {
     "data": {
      "text/plain": [
       "'subject color printing special request additional information now click here click here for a printable version of our order form pdf format phone fax e mail ramsey goldengraphix com request additional information now click here click here for a printable version of our order form pdf format golden graphix printing azusa canyon rd irwindale ca this e mail message is an advertisement and or solicitation '"
      ]
     },
     "execution_count": 33,
     "metadata": {},
     "output_type": "execute_result"
    }
   ],
   "source": [
    "data['cleaned_text'][3]"
   ]
  },
  {
   "cell_type": "code",
   "execution_count": 42,
   "id": "c07c267e",
   "metadata": {},
   "outputs": [],
   "source": [
    "#Splitting data\n",
    "\n",
    "X_train, X_test, Y_train, Y_test= train_test_split(data['cleaned_text'], data['spam'], train_size=0.8) "
   ]
  },
  {
   "cell_type": "code",
   "execution_count": 44,
   "id": "c06ec3c5",
   "metadata": {},
   "outputs": [
    {
     "data": {
      "text/plain": [
       "'subject naturally irresistible your corporate identity lt is really hard to recollect a company the market is full of suqgestions and the information isoverwhelminq but a good catchy logo stylish statlonery and outstanding website will make the task much easier we do not promise that havinq ordered a iogo your company will automaticaily become a world ieader it isguite ciear that without good products effective business organization and practicable aim it will be hotat nowadays market but we do promise that your marketing efforts will become much more effective here is the list of clear benefits creativeness hand made original logos specially done to reflect your distinctive company image convenience logo and stationery are provided in all formats easy to use content management system letsyou change your website content and even its structure promptness you will see logo drafts within three business days affordability your marketing break through shouldn t make gaps in your budget satisfaction guaranteed we provide unlimited amount of changes with no extra fees for you to be surethat you will love the result of this collaboration have a look at our portfolio not interested '"
      ]
     },
     "execution_count": 44,
     "metadata": {},
     "output_type": "execute_result"
    }
   ],
   "source": [
    "X_train[0]"
   ]
  },
  {
   "cell_type": "code",
   "execution_count": 57,
   "id": "e91829cb",
   "metadata": {},
   "outputs": [
    {
     "data": {
      "text/plain": [
       "[15,\n",
       " 719,\n",
       " 2,\n",
       " 10,\n",
       " 266,\n",
       " 4332,\n",
       " 1000,\n",
       " 383,\n",
       " 1312,\n",
       " 21,\n",
       " 107,\n",
       " 31,\n",
       " 21,\n",
       " 47,\n",
       " 37,\n",
       " 30,\n",
       " 13,\n",
       " 12,\n",
       " 35,\n",
       " 1905,\n",
       " 12,\n",
       " 35,\n",
       " 2,\n",
       " 550,\n",
       " 10,\n",
       " 32,\n",
       " 46,\n",
       " 1905,\n",
       " 9138,\n",
       " 326,\n",
       " 709,\n",
       " 88,\n",
       " 15,\n",
       " 719,\n",
       " 2,\n",
       " 10,\n",
       " 266,\n",
       " 4332,\n",
       " 21,\n",
       " 36,\n",
       " 393,\n",
       " 2938,\n",
       " 5051,\n",
       " 2,\n",
       " 1,\n",
       " 266,\n",
       " 891,\n",
       " 149,\n",
       " 34,\n",
       " 6,\n",
       " 23,\n",
       " 38,\n",
       " 373,\n",
       " 492,\n",
       " 77,\n",
       " 1165,\n",
       " 2,\n",
       " 45,\n",
       " 2175,\n",
       " 16,\n",
       " 108,\n",
       " 5,\n",
       " 464,\n",
       " 4,\n",
       " 376,\n",
       " 25,\n",
       " 1,\n",
       " 10,\n",
       " 1312,\n",
       " 194,\n",
       " 126,\n",
       " 23,\n",
       " 5,\n",
       " 2762,\n",
       " 2,\n",
       " 102,\n",
       " 19,\n",
       " 10,\n",
       " 55,\n",
       " 1325,\n",
       " 242,\n",
       " 79,\n",
       " 25,\n",
       " 5051,\n",
       " 8323,\n",
       " 684,\n",
       " 9138,\n",
       " 326,\n",
       " 709,\n",
       " 88,\n",
       " 139,\n",
       " 211,\n",
       " 551,\n",
       " 48,\n",
       " 2,\n",
       " 1905,\n",
       " 15,\n",
       " 43,\n",
       " 114,\n",
       " 25,\n",
       " 10,\n",
       " 1325,\n",
       " 8,\n",
       " 163,\n",
       " 1220,\n",
       " 45,\n",
       " 203,\n",
       " 787,\n",
       " 2,\n",
       " 116,\n",
       " 817,\n",
       " 183,\n",
       " 3,\n",
       " 1427,\n",
       " 93,\n",
       " 1242,\n",
       " 25,\n",
       " 168,\n",
       " 8,\n",
       " 41,\n",
       " 17,\n",
       " 96,\n",
       " 1441,\n",
       " 2,\n",
       " 18409,\n",
       " 45,\n",
       " 203,\n",
       " 34,\n",
       " 713,\n",
       " 55,\n",
       " 2938]"
      ]
     },
     "execution_count": 57,
     "metadata": {},
     "output_type": "execute_result"
    }
   ],
   "source": [
    "#Tokenizing the text values\n",
    "\n",
    "word_size=100\n",
    "max_feature = 50000\n",
    "\n",
    "tokenizer = Tokenizer(num_words= max_feature)\n",
    "tokenizer.fit_on_texts(X_train)\n",
    "\n",
    "X_train_features = np.array(tokenizer.texts_to_sequences(X_train))\n",
    "X_test_features = np.array(tokenizer.texts_to_sequences(X_test))\n",
    "X_train_features[0]"
   ]
  },
  {
   "cell_type": "code",
   "execution_count": 60,
   "id": "d3e8aaf6",
   "metadata": {},
   "outputs": [
    {
     "data": {
      "text/plain": [
       "array([   0,    0,    0, ...,  713,   55, 2938])"
      ]
     },
     "execution_count": 60,
     "metadata": {},
     "output_type": "execute_result"
    }
   ],
   "source": [
    "#padding the tokens\n",
    "from keras.preprocessing.sequence import pad_sequences\n",
    "maxLen = 2000\n",
    "\n",
    "X_train_features = pad_sequences(X_train_features, maxlen=maxLen)\n",
    "X_test_features = pad_sequences(X_test_features, maxlen=maxLen)\n",
    "X_train_features[0]\n"
   ]
  },
  {
   "cell_type": "code",
   "execution_count": 61,
   "id": "47986544",
   "metadata": {},
   "outputs": [
    {
     "name": "stdout",
     "output_type": "stream",
     "text": [
      "Model: \"sequential\"\n",
      "_________________________________________________________________\n",
      "Layer (type)                 Output Shape              Param #   \n",
      "=================================================================\n",
      "embedding (Embedding)        (None, 2000, 32)          1600000   \n",
      "_________________________________________________________________\n",
      "bidirectional (Bidirectional (None, 128)               49664     \n",
      "_________________________________________________________________\n",
      "dense (Dense)                (None, 16)                2064      \n",
      "_________________________________________________________________\n",
      "dropout (Dropout)            (None, 16)                0         \n",
      "_________________________________________________________________\n",
      "dense_1 (Dense)              (None, 1)                 17        \n",
      "=================================================================\n",
      "Total params: 1,651,745\n",
      "Trainable params: 1,651,745\n",
      "Non-trainable params: 0\n",
      "_________________________________________________________________\n",
      "None\n"
     ]
    }
   ],
   "source": [
    "#Embedding\n",
    "import tensorflow as tf\n",
    "from keras.layers import Dense,LSTM, Embedding, Dropout, Activation, Bidirectional\n",
    "\n",
    "embedding_vector_length = 32\n",
    "\n",
    "model = tf.keras.Sequential()\n",
    "\n",
    "model.add(Embedding(max_feature, embedding_vector_length, input_length=max_len))\n",
    "\n",
    "model.add(Bidirectional(tf.keras.layers.LSTM(64)))\n",
    "\n",
    "model.add(Dense(16, activation='relu'))\n",
    "\n",
    "model.add(Dropout(0.1))\n",
    "\n",
    "model.add(Dense(1, activation='sigmoid'))\n",
    "model.compile(loss='binary_crossentropy', optimizer='adam', metrics=['accuracy'])\n",
    "print(model.summary())\n"
   ]
  },
  {
   "cell_type": "code",
   "execution_count": 63,
   "id": "d975ff7d",
   "metadata": {},
   "outputs": [
    {
     "name": "stdout",
     "output_type": "stream",
     "text": [
      "Epoch 1/10\n",
      "144/144 [==============================] - 384s 3s/step - loss: 0.2824 - accuracy: 0.8935 - val_loss: 0.0642 - val_accuracy: 0.9791\n",
      "Epoch 2/10\n",
      "144/144 [==============================] - 372s 3s/step - loss: 0.0335 - accuracy: 0.9902 - val_loss: 0.0271 - val_accuracy: 0.9887\n",
      "Epoch 3/10\n",
      "144/144 [==============================] - 381s 3s/step - loss: 0.0058 - accuracy: 0.9987 - val_loss: 0.0232 - val_accuracy: 0.9930\n",
      "Epoch 4/10\n",
      "144/144 [==============================] - 392s 3s/step - loss: 9.2206e-04 - accuracy: 1.0000 - val_loss: 0.0169 - val_accuracy: 0.9956\n",
      "Epoch 5/10\n",
      "144/144 [==============================] - 397s 3s/step - loss: 0.0039 - accuracy: 0.9991 - val_loss: 0.0803 - val_accuracy: 0.9747\n",
      "Epoch 6/10\n",
      "144/144 [==============================] - 390s 3s/step - loss: 0.0027 - accuracy: 0.9996 - val_loss: 0.0170 - val_accuracy: 0.9948\n",
      "Epoch 7/10\n",
      "144/144 [==============================] - 386s 3s/step - loss: 4.8829e-04 - accuracy: 1.0000 - val_loss: 0.0439 - val_accuracy: 0.9869\n",
      "Epoch 8/10\n",
      "144/144 [==============================] - 391s 3s/step - loss: 3.1819e-04 - accuracy: 1.0000 - val_loss: 0.0244 - val_accuracy: 0.9930\n",
      "Epoch 9/10\n",
      "144/144 [==============================] - 380s 3s/step - loss: 1.8943e-04 - accuracy: 1.0000 - val_loss: 0.0271 - val_accuracy: 0.9939\n",
      "Epoch 10/10\n",
      "144/144 [==============================] - 392s 3s/step - loss: 1.8729e-04 - accuracy: 1.0000 - val_loss: 0.0272 - val_accuracy: 0.9939\n"
     ]
    }
   ],
   "source": [
    "history = model.fit(X_train_features, Y_train, batch_size=32, epochs=10, validation_data=(X_test_features, Y_test))"
   ]
  },
  {
   "cell_type": "code",
   "execution_count": 74,
   "id": "475e6ded",
   "metadata": {},
   "outputs": [
    {
     "data": {
      "text/plain": [
       "array([[0.5022327 ],\n",
       "       [0.5022327 ],\n",
       "       [0.5022327 ],\n",
       "       ...,\n",
       "       [0.35516667],\n",
       "       [0.1331583 ],\n",
       "       [0.18995976]], dtype=float32)"
      ]
     },
     "execution_count": 74,
     "metadata": {},
     "output_type": "execute_result"
    }
   ],
   "source": [
    "model.predict(X_test_features[0])\n"
   ]
  },
  {
   "cell_type": "code",
   "execution_count": 75,
   "id": "4aea93a4",
   "metadata": {},
   "outputs": [],
   "source": [
    "y_predict = [1 if o>0.5 else 0 for o in model.predict(X_test_features)]"
   ]
  },
  {
   "cell_type": "code",
   "execution_count": 90,
   "id": "e84e5bfe",
   "metadata": {},
   "outputs": [
    {
     "name": "stdout",
     "output_type": "stream",
     "text": [
      "Accuracy is  0.993891797556719\n",
      "Classification Report of \n",
      "               precision    recall  f1-score   support\n",
      "\n",
      "           0       0.99      1.00      1.00       877\n",
      "           1       0.99      0.98      0.99       269\n",
      "\n",
      "    accuracy                           0.99      1146\n",
      "   macro avg       0.99      0.99      0.99      1146\n",
      "weighted avg       0.99      0.99      0.99      1146\n",
      "\n",
      "Confusion matrix : \n",
      "[[875   2]\n",
      " [  5 264]]\n"
     ]
    }
   ],
   "source": [
    "print('Accuracy is ', accuracy_score(Y_test, y_predict)) \n",
    "\n",
    "print('Classification Report of \\n',classification_report(Y_test, y_predict))\n",
    "\n",
    "print('Confusion matrix : \\n{}'.format(confusion_matrix(Y_test, y_predict)))\n",
    "#plot_confusion_matrix(model, X_test_features, Y_test,cmap=plt.cm.Blues)"
   ]
  },
  {
   "cell_type": "code",
   "execution_count": 96,
   "id": "dba85ca2",
   "metadata": {},
   "outputs": [
    {
     "name": "stdout",
     "output_type": "stream",
     "text": [
      "Precision: 99.25%\n",
      "Recall: 98.14%\n",
      "F1 Score: 98.69%\n"
     ]
    }
   ],
   "source": [
    "cf_matrix =confusion_matrix(Y_test,y_predict)\n",
    "\n",
    "print(\"Precision: {:.2f}%\".format(100 * precision_score(Y_test, y_predict)))\n",
    "print(\"Recall: {:.2f}%\".format(100 * recall_score(Y_test, y_predict)))\n",
    "print(\"F1 Score: {:.2f}%\".format(100 * f1_score(Y_test,y_predict)))"
   ]
  },
  {
   "cell_type": "code",
   "execution_count": 95,
   "id": "52dcf129",
   "metadata": {},
   "outputs": [
    {
     "data": {
      "image/png": "[encoded data removed]",
      "text/plain": [
       "<Figure size 432x288 with 2 Axes>"
      ]
     },
     "metadata": {
      "needs_background": "light"
     },
     "output_type": "display_data"
    }
   ],
   "source": [
    "ax= plt.subplot()\n",
    "sns.heatmap(cf_matrix, annot=True, ax = ax,cmap='Blues',fmt='')\n",
    "ax.set_xlabel('Predicted');\n",
    "ax.set_ylabel('Actual'); \n",
    "ax.set_title('Confusion Matrix'); \n",
    "ax.xaxis.set_ticklabels(['Not Spam', 'Spam']); ax.yaxis.set_ticklabels(['Not Spam', 'Spam']);"
   ]
  },
  {
   "cell_type": "code",
   "execution_count": null,
   "id": "67f829ba",
   "metadata": {},
   "outputs": [],
   "source": [
    "#print classification report\n",
    "#create your own graphs\n",
    "#Create other models suchas DT, RF, LR"
   ]
  }
 ],
 "metadata": {
  "kernelspec": {
   "display_name": "Python 3",
   "language": "python",
   "name": "python3"
  },
  "language_info": {
   "codemirror_mode": {
    "name": "ipython",
    "version": 3
   },
   "file_extension": ".py",
   "mimetype": "text/x-python",
   "name": "python",
   "nbconvert_exporter": "python",
   "pygments_lexer": "ipython3",
   "version": "3.8.7"
  }
 },
 "nbformat": 4,
 "nbformat_minor": 5
}
